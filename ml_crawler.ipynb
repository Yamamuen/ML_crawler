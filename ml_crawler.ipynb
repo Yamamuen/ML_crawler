{
 "cells": [
  {
   "cell_type": "code",
   "execution_count": 2,
   "metadata": {},
   "outputs": [],
   "source": [
    "\n",
    "import requests\n",
    "import json\n",
    "import pandas as pd\n",
    "import numpy as np\n",
    "from bs4 import BeautifulSoup"
   ]
  },
  {
   "cell_type": "code",
   "execution_count": 84,
   "metadata": {},
   "outputs": [
    {
     "name": "stdout",
     "output_type": "stream",
     "text": [
      "Fetching page 1\n",
      "Fetching page 2\n",
      "Fetching page 3\n",
      "Fetching page 4\n",
      "Fetching page 5\n",
      "Fetching page 6\n",
      "Fetching page 7\n",
      "Fetching page 8\n",
      "Fetching page 9\n",
      "Fetching page 10\n",
      "Fetching page 11\n",
      "Fetching page 12\n",
      "Fetching page 13\n",
      "Fetching page 14\n",
      "Fetching page 15\n",
      "Fetching page 16\n",
      "Fetching page 17\n",
      "Fetching page 18\n",
      "Fetching page 19\n",
      "Fetching page 20\n",
      "Fetching page 21\n",
      "Fetching page 22\n",
      "Fetching page 23\n",
      "Fetching page 24\n",
      "Fetching page 25\n",
      "Fetching page 26\n",
      "Fetching page 27\n",
      "Fetching page 28\n",
      "Fetching page 29\n",
      "Fetching page 30\n",
      "Fetching page 31\n",
      "Fetching page 32\n",
      "Fetching page 33\n",
      "Fetching page 34\n",
      "Fetching page 35\n",
      "Fetching page 36\n",
      "Fetching page 37\n",
      "Fetching page 38\n",
      "Fetching page 39\n",
      "Fetching page 40\n",
      "Fetching page 41\n",
      "Fetching page 42\n"
     ]
    }
   ],
   "source": [
    "# Fetching html doc\n",
    "url = \"https://lista.mercadolivre.com.br/spray-colorgin#D[A:spray%20colorgin]\"\n",
    "\n",
    "# Looping through all pages:\n",
    "pg = 1\n",
    "listings = []\n",
    "while True:\n",
    "    # Passing content to BS4\n",
    "    print(f\"Fetching page {pg}\")\n",
    "    page = requests.get(url)\n",
    "    soup = BeautifulSoup(page.content,  \"html.parser\")\n",
    "\n",
    "    # Compiling all listings' URLs\n",
    "    job_elements = soup.find_all(\n",
    "        \"div\", class_=\"ui-search-item__group ui-search-item__group--title\")\n",
    "    listings.extend([job_element.find(\n",
    "        \"a\", class_=\"ui-search-item__group__element ui-search-link__title-card ui-search-link\")[\"href\"] for job_element in job_elements])\n",
    "\n",
    "    # Attempting to find nest page URL (if it fails the loop stops)\n",
    "    try:\n",
    "        url = soup.find(\n",
    "            \"li\", class_=\"andes-pagination__button andes-pagination__button--next\").find(\"a\")[\"href\"]\n",
    "        pg += 1\n",
    "    except:\n",
    "        break"
   ]
  },
  {
   "cell_type": "code",
   "execution_count": 86,
   "metadata": {},
   "outputs": [
    {
     "data": {
      "text/plain": [
       "2268"
      ]
     },
     "execution_count": 86,
     "metadata": {},
     "output_type": "execute_result"
    }
   ],
   "source": [
    "len(listings)"
   ]
  },
  {
   "cell_type": "code",
   "execution_count": 93,
   "metadata": {},
   "outputs": [
    {
     "data": {
      "text/plain": [
       "'Novo  |  +1000 vendidos'"
      ]
     },
     "execution_count": 93,
     "metadata": {},
     "output_type": "execute_result"
    }
   ],
   "source": [
    "BeautifulSoup(requests.get(\"https://produto.mercadolivre.com.br/MLB-3059501888-tinta-spray-metallik-interior-colorgin-350-ml-cores-_JM#position=2&search_layout=grid&type=item&tracking_id=b8ef1d05-286c-4296-b0f8-fe9ba1c1f8e3\").content,\n",
    "              \"html.parser\").find(\"span\", class_=\"ui-pdp-subtitle\").text"
   ]
  },
  {
   "cell_type": "code",
   "execution_count": null,
   "metadata": {},
   "outputs": [],
   "source": []
  }
 ],
 "metadata": {
  "kernelspec": {
   "display_name": "crawler_env",
   "language": "python",
   "name": "python3"
  },
  "language_info": {
   "codemirror_mode": {
    "name": "ipython",
    "version": 3
   },
   "file_extension": ".py",
   "mimetype": "text/x-python",
   "name": "python",
   "nbconvert_exporter": "python",
   "pygments_lexer": "ipython3",
   "version": "3.11.6"
  }
 },
 "nbformat": 4,
 "nbformat_minor": 2
}
